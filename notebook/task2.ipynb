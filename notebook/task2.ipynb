{
 "cells": [
  {
   "cell_type": "code",
   "execution_count": 1,
   "id": "4098b52e",
   "metadata": {},
   "outputs": [
    {
     "name": "stdout",
     "output_type": "stream",
     "text": [
      "3pcs B-PRODUCT\n",
      "silicon I-PRODUCT\n",
      "brush I-PRODUCT\n",
      "spatulas I-PRODUCT\n",
      "እስከ O\n",
      "260°c O\n",
      "ሙቀት O\n",
      "መቆቆም O\n",
      "የሚችል O\n",
      "ዋጋ-550ብር I-PRICE\n",
      "አድራሻ O\n",
      "ቁ.1 O\n",
      "ስሪ O\n",
      "ኤም O\n",
      "ሲቲ O\n"
     ]
    }
   ],
   "source": [
    "# Load the labeled data file and display the first 15 non-empty lines\n",
    "file_path = \"labeled_telegram_product_price_location.txt\"\n",
    "\n",
    "line_count = 0\n",
    "with open(file_path, 'r', encoding='utf-8') as f:\n",
    "    for line in f:\n",
    "        if line.strip() == \"\":\n",
    "            # skip blank lines for this preview\n",
    "            continue\n",
    "        print(line.strip())\n",
    "        line_count += 1\n",
    "        if line_count >= 15:\n",
    "            break\n"
   ]
  },
  {
   "cell_type": "code",
   "execution_count": 2,
   "id": "4ee64651",
   "metadata": {},
   "outputs": [
    {
     "name": "stdout",
     "output_type": "stream",
     "text": [
      "Total tokens (non-blank lines): 174645\n",
      "Total sentences (entries): 3166\n",
      "Unique labels in data: ['B-PRODUCT', 'I-LOC', 'I-PRICE', 'I-PRODUCT', 'O']\n",
      "Formatting errors (lines not having 2 columns): 0\n"
     ]
    }
   ],
   "source": [
    "# Validate format\n",
    "num_lines = 0\n",
    "num_sentences = 0\n",
    "format_errors = 0\n",
    "label_set = set()\n",
    "\n",
    "with open(file_path, 'r', encoding='utf-8') as f:\n",
    "    prev_blank = False\n",
    "    for line in f:\n",
    "        line = line.rstrip('\\n')\n",
    "        if line == \"\":\n",
    "            # Blank line indicates end of a sentence\n",
    "            num_sentences += 1\n",
    "            prev_blank = True\n",
    "            continue\n",
    "        num_lines += 1\n",
    "        parts = line.split()\n",
    "        # Check for exactly 2 columns per non-blank line\n",
    "        if len(parts) != 2:\n",
    "            format_errors += 1\n",
    "        else:\n",
    "            token, label = parts\n",
    "            label_set.add(label)\n",
    "        prev_blank = False\n",
    "    # If file doesn't end with a blank line, count the last sentence\n",
    "    if not prev_blank:\n",
    "        num_sentences += 1\n",
    "\n",
    "print(f\"Total tokens (non-blank lines): {num_lines}\")\n",
    "print(f\"Total sentences (entries): {num_sentences}\")\n",
    "print(f\"Unique labels in data: {sorted(label_set)}\")\n",
    "print(f\"Formatting errors (lines not having 2 columns): {format_errors}\")\n"
   ]
  },
  {
   "cell_type": "code",
   "execution_count": 3,
   "id": "d69c28f1",
   "metadata": {},
   "outputs": [
    {
     "name": "stdout",
     "output_type": "stream",
     "text": [
      "Sentence 1 (with highlighted entities):\n"
     ]
    },
    {
     "data": {
      "text/html": [
       "<span style='background-color: #ccffcc'><b>3pcs</b></span> <span style='background-color: #ccffcc'><b>silicon</b></span> <span style='background-color: #ccffcc'><b>brush</b></span> <span style='background-color: #ccffcc'><b>spatulas</b></span> እስከ 260°c ሙቀት መቆቆም የሚችል <span style='background-color: #ffffcc'><b>ዋጋ-550ብር</b></span> አድራሻ ቁ.1 ስሪ ኤም ሲቲ ሞል ሁለተኛ ፎቅ ቢሮ ቁ. SL-05A(ከ ሊፍቱ ፊት ለ ፊት) ቁ.2 <span style='background-color: #ccffff'><b>ለቡ</b></span> መዳህኒዓለም ቤተ/ክርስቲያን ፊት ለፊት #ዛም_ሞል 2ኛ ፎቅ ቢሮ ቁጥር.214 <span style='background-color: #ccffff'><b>ለቡ</b></span> ቅርንጫፍ0973611819 0909522840 0923350054 በTelegram ለማዘዝ ይጠቀሙ @shager_onlinestore ለተጨማሪ ማብራሪያ የቴሌግራም ገፃችን https://t.me/Shageronlinestore"
      ],
      "text/plain": [
       "<IPython.core.display.HTML object>"
      ]
     },
     "metadata": {},
     "output_type": "display_data"
    },
    {
     "name": "stdout",
     "output_type": "stream",
     "text": [
      "\n",
      "\n",
      "Sentence 2 (with highlighted entities):\n"
     ]
    },
    {
     "data": {
      "text/html": [
       "<span style='background-color: #ccffcc'><b>Mandoline</b></span> <span style='background-color: #ccffcc'><b>Slicer</b></span> ጊዜ ቆጣቢ ስላይስ ማድረጊያ ለእጅ ሴፍቲ ተመራጭ ለድንች ለካሮትና ሌሎች አታክልቶች ተመራጭ ጥራት ያለው ዕቃ <span style='background-color: #ffffcc'><b>ዋጋ፦</b></span> 1,200 <span style='background-color: #ffffcc'><b>ብር</b></span> አድራሻ ቁ.1 ስሪ ኤም ሲቲ ሞል ሁለተኛ ፎቅ ቢሮ ቁ. SL-05A(ከ ሊፍቱ ፊት ለ ፊት) ቁ.2 <span style='background-color: #ccffff'><b>ለቡ</b></span> መዳህኒዓለም ቤተ/ክርስቲያን ፊት ለፊት #ዛም_ሞል 2ኛ ፎቅ ቢሮ ቁጥር.214 <span style='background-color: #ccffff'><b>ለቡ</b></span> ቅርንጫፍ0973611819 0909522840 0923350054 በTelegram ለማዘዝ ይጠቀሙ @shager_onlinestore ለተጨማሪ ማብራሪያ የቴሌግራም ገፃችን https://t.me/Shageronlinestore"
      ],
      "text/plain": [
       "<IPython.core.display.HTML object>"
      ]
     },
     "metadata": {},
     "output_type": "display_data"
    },
    {
     "name": "stdout",
     "output_type": "stream",
     "text": [
      "\n",
      "\n"
     ]
    }
   ],
   "source": [
    "from IPython.display import display, HTML\n",
    "\n",
    "# Define colors for each entity type for highlighting\n",
    "entity_colors = {\n",
    "    \"PRODUCT\": \"#ccffcc\",  # light green\n",
    "    \"PRICE\": \"#ffffcc\",    # light yellow\n",
    "    \"LOC\": \"#ccffff\"       # light cyan\n",
    "}\n",
    "\n",
    "# Read the file and split into sentences (list of list of (token, label))\n",
    "sentences = []\n",
    "current_sentence = []\n",
    "with open(file_path, 'r', encoding='utf-8') as f:\n",
    "    for line in f:\n",
    "        line = line.rstrip('\\n')\n",
    "        if line == \"\":\n",
    "            if current_sentence:\n",
    "                sentences.append(current_sentence)\n",
    "                current_sentence = []\n",
    "            continue\n",
    "        token, label = line.split()\n",
    "        current_sentence.append((token, label))\n",
    "    # Append the last sentence if not already ended with a blank line\n",
    "    if current_sentence:\n",
    "        sentences.append(current_sentence)\n",
    "\n",
    "# Function to create a highlighted HTML string for a sentence\n",
    "def highlight_sentence(token_label_list):\n",
    "    html_tokens = []\n",
    "    for token, label in token_label_list:\n",
    "        if label == 'O':\n",
    "            # not an entity, no highlight\n",
    "            html_tokens.append(token)\n",
    "        else:\n",
    "            # entity token: choose color based on entity type\n",
    "            # entity type is the part after B- or I-\n",
    "            ent_type = label.split('-')[-1]  \n",
    "            color = entity_colors.get(ent_type, \"#e0e0e0\")  # default grey if unknown\n",
    "            # Wrap token in a span with background color\n",
    "            html_tokens.append(f\"<span style='background-color: {color}'><b>{token}</b></span>\")\n",
    "    # Join tokens with space (NOTE: this might not perfectly reconstruct spacing/punctuation)\n",
    "    return \" \".join(html_tokens)\n",
    "\n",
    "# Choose two sample sentences for demonstration (e.g., first two sentences in the dataset)\n",
    "sample_indices = [0, 1]  # indices of sentences to display\n",
    "for idx in sample_indices:\n",
    "    sent = sentences[idx]\n",
    "    highlighted_html = highlight_sentence(sent)\n",
    "    print(f\"Sentence {idx+1} (with highlighted entities):\")\n",
    "    display(HTML(highlighted_html))\n",
    "    print(\"\\n\")  # newline for separation\n"
   ]
  },
  {
   "cell_type": "code",
   "execution_count": 4,
   "id": "1ea026eb",
   "metadata": {},
   "outputs": [
    {
     "name": "stdout",
     "output_type": "stream",
     "text": [
      "B-PRODUCT: 3055\n",
      "I-PRODUCT: 11227\n",
      "O: 148435\n",
      "I-PRICE: 8195\n",
      "I-LOC: 2869\n"
     ]
    }
   ],
   "source": [
    "from collections import Counter\n",
    "# Count label frequencies\n",
    "label_counts = Counter()\n",
    "with open(file_path, 'r', encoding='utf-8') as f:\n",
    "    for line in f:\n",
    "        line = line.strip()\n",
    "        if line == \"\" or line.startswith(\"#\"):\n",
    "            continue  # skip empty lines and any comment lines (if any)\n",
    "        _, label = line.split()\n",
    "        label_counts[label] += 1\n",
    "\n",
    "# Print out the counts for each label\n",
    "for lbl, cnt in label_counts.items():\n",
    "    print(f\"{lbl}: {cnt}\")\n"
   ]
  },
  {
   "cell_type": "code",
   "execution_count": 5,
   "id": "81c5f640",
   "metadata": {},
   "outputs": [
    {
     "data": {
      "image/png": "[encoded data removed]",
      "text/plain": [
       "<Figure size 600x400 with 1 Axes>"
      ]
     },
     "metadata": {},
     "output_type": "display_data"
    }
   ],
   "source": [
    "%matplotlib inline\n",
    "import matplotlib.pyplot as plt\n",
    "\n",
    "labels = list(label_counts.keys())\n",
    "counts = [label_counts[lbl] for lbl in labels]\n",
    "\n",
    "plt.figure(figsize=(6,4))\n",
    "plt.bar(labels, counts, color='skyblue')\n",
    "plt.title(\"Label Frequency Distribution\")\n",
    "plt.xlabel(\"Labels\")\n",
    "plt.ylabel(\"Count of Tokens\")\n",
    "plt.xticks(rotation=45)\n",
    "plt.yscale('log')  # using log scale to accommodate the wide range (O is much larger)\n",
    "plt.tight_layout()\n",
    "plt.show()\n"
   ]
  },
  {
   "cell_type": "code",
   "execution_count": null,
   "id": "ec3e1bfa",
   "metadata": {},
   "outputs": [],
   "source": []
  },
  {
   "cell_type": "code",
   "execution_count": null,
   "id": "70195227",
   "metadata": {},
   "outputs": [],
   "source": []
  },
  {
   "cell_type": "code",
   "execution_count": 6,
   "id": "7bb3a382",
   "metadata": {},
   "outputs": [
    {
     "name": "stdout",
     "output_type": "stream",
     "text": [
      "(174645, 3)\n"
     ]
    },
    {
     "data": {
      "text/html": [
       "<div>\n",
       "<style scoped>\n",
       "    .dataframe tbody tr th:only-of-type {\n",
       "        vertical-align: middle;\n",
       "    }\n",
       "\n",
       "    .dataframe tbody tr th {\n",
       "        vertical-align: top;\n",
       "    }\n",
       "\n",
       "    .dataframe thead th {\n",
       "        text-align: right;\n",
       "    }\n",
       "</style>\n",
       "<table border=\"1\" class=\"dataframe\">\n",
       "  <thead>\n",
       "    <tr style=\"text-align: right;\">\n",
       "      <th></th>\n",
       "      <th>sentence_id</th>\n",
       "      <th>token</th>\n",
       "      <th>label</th>\n",
       "    </tr>\n",
       "  </thead>\n",
       "  <tbody>\n",
       "    <tr>\n",
       "      <th>0</th>\n",
       "      <td>0</td>\n",
       "      <td>3pcs</td>\n",
       "      <td>B-PRODUCT</td>\n",
       "    </tr>\n",
       "    <tr>\n",
       "      <th>1</th>\n",
       "      <td>0</td>\n",
       "      <td>silicon</td>\n",
       "      <td>I-PRODUCT</td>\n",
       "    </tr>\n",
       "    <tr>\n",
       "      <th>2</th>\n",
       "      <td>0</td>\n",
       "      <td>brush</td>\n",
       "      <td>I-PRODUCT</td>\n",
       "    </tr>\n",
       "    <tr>\n",
       "      <th>3</th>\n",
       "      <td>0</td>\n",
       "      <td>spatulas</td>\n",
       "      <td>I-PRODUCT</td>\n",
       "    </tr>\n",
       "    <tr>\n",
       "      <th>4</th>\n",
       "      <td>0</td>\n",
       "      <td>እስከ</td>\n",
       "      <td>O</td>\n",
       "    </tr>\n",
       "    <tr>\n",
       "      <th>5</th>\n",
       "      <td>0</td>\n",
       "      <td>260°c</td>\n",
       "      <td>O</td>\n",
       "    </tr>\n",
       "    <tr>\n",
       "      <th>6</th>\n",
       "      <td>0</td>\n",
       "      <td>ሙቀት</td>\n",
       "      <td>O</td>\n",
       "    </tr>\n",
       "    <tr>\n",
       "      <th>7</th>\n",
       "      <td>0</td>\n",
       "      <td>መቆቆም</td>\n",
       "      <td>O</td>\n",
       "    </tr>\n",
       "    <tr>\n",
       "      <th>8</th>\n",
       "      <td>0</td>\n",
       "      <td>የሚችል</td>\n",
       "      <td>O</td>\n",
       "    </tr>\n",
       "    <tr>\n",
       "      <th>9</th>\n",
       "      <td>0</td>\n",
       "      <td>ዋጋ-550ብር</td>\n",
       "      <td>I-PRICE</td>\n",
       "    </tr>\n",
       "  </tbody>\n",
       "</table>\n",
       "</div>"
      ],
      "text/plain": [
       "   sentence_id     token      label\n",
       "0            0      3pcs  B-PRODUCT\n",
       "1            0   silicon  I-PRODUCT\n",
       "2            0     brush  I-PRODUCT\n",
       "3            0  spatulas  I-PRODUCT\n",
       "4            0       እስከ          O\n",
       "5            0     260°c          O\n",
       "6            0       ሙቀት          O\n",
       "7            0      መቆቆም          O\n",
       "8            0      የሚችል          O\n",
       "9            0  ዋጋ-550ብር    I-PRICE"
      ]
     },
     "execution_count": 6,
     "metadata": {},
     "output_type": "execute_result"
    }
   ],
   "source": [
    "import pandas as pd\n",
    "\n",
    "# Build a DataFrame with columns: sentence_id, token, label\n",
    "records = []\n",
    "for sent_id, sent in enumerate(sentences):\n",
    "    for token, label in sent:\n",
    "        records.append((sent_id, token, label))\n",
    "\n",
    "df = pd.DataFrame(records, columns=[\"sentence_id\", \"token\", \"label\"])\n",
    "print(df.shape)\n",
    "df.head(10)\n"
   ]
  },
  {
   "cell_type": "code",
   "execution_count": null,
   "id": "0b3372b3",
   "metadata": {},
   "outputs": [],
   "source": []
  },
  {
   "cell_type": "code",
   "execution_count": 7,
   "id": "53166896",
   "metadata": {},
   "outputs": [
    {
     "name": "stdout",
     "output_type": "stream",
     "text": [
      "New label counts after cleaning:\n",
      "B-LOC: 2870\n",
      "B-PRICE: 4763\n",
      "B-PRODUCT: 3144\n",
      "I-PRICE: 3441\n",
      "I-PRODUCT: 11255\n",
      "O: 149172\n"
     ]
    }
   ],
   "source": [
    "# Perform IOB tagging correction: convert I- at entity starts to B-\n",
    "cleaned_sentences = []  # will hold lists of (token, label) for each sentence after cleaning\n",
    "for sent in sentences:\n",
    "    cleaned_sent = []\n",
    "    prev_label = \"O\"\n",
    "    for token, label in sent:\n",
    "        if label.startswith(\"I-\"):\n",
    "            # If previous token was a different entity or outside, this I- should be B-\n",
    "            if prev_label == \"O\" or prev_label.split('-')[-1] != label.split('-')[-1]:\n",
    "                # Convert I-XXX to B-XXX\n",
    "                label = \"B-\" + label[2:]\n",
    "        # Append the (token, possibly corrected label)\n",
    "        cleaned_sent.append((token, label))\n",
    "        # Update prev_label (if current label is O, we keep it as \"O\"; else use the current entity type)\n",
    "        prev_label = label if label != \"O\" else \"O\"\n",
    "    cleaned_sentences.append(cleaned_sent)\n",
    "\n",
    "# Verify new label distribution after cleaning\n",
    "new_label_counts = Counter([lbl for sent in cleaned_sentences for _, lbl in sent])\n",
    "print(\"New label counts after cleaning:\")\n",
    "for lbl, cnt in sorted(new_label_counts.items()):\n",
    "    print(f\"{lbl}: {cnt}\")\n"
   ]
  },
  {
   "cell_type": "code",
   "execution_count": null,
   "id": "094728d1",
   "metadata": {},
   "outputs": [],
   "source": []
  },
  {
   "cell_type": "code",
   "execution_count": 8,
   "id": "48a7d737",
   "metadata": {},
   "outputs": [
    {
     "name": "stdout",
     "output_type": "stream",
     "text": [
      "Cleaned data has been written to labeled_telegram_product_price_location_cleaned.txt.\n"
     ]
    }
   ],
   "source": [
    "output_file = \"labeled_telegram_product_price_location_cleaned.txt\"\n",
    "with open(output_file, 'w', encoding='utf-8') as out:\n",
    "    for sent in cleaned_sentences:\n",
    "        for token, label in sent:\n",
    "            out.write(f\"{token} {label}\\n\")\n",
    "        out.write(\"\\n\")\n",
    "print(f\"Cleaned data has been written to {output_file}.\")\n"
   ]
  },
  {
   "cell_type": "code",
   "execution_count": null,
   "id": "6f150efd",
   "metadata": {},
   "outputs": [],
   "source": []
  },
  {
   "cell_type": "code",
   "execution_count": 9,
   "id": "23ff2e59",
   "metadata": {},
   "outputs": [
    {
     "name": "stdout",
     "output_type": "stream",
     "text": [
      "3pcs B-PRODUCT\n",
      "silicon I-PRODUCT\n",
      "brush I-PRODUCT\n",
      "spatulas I-PRODUCT\n",
      "እስከ O\n",
      "260°c O\n",
      "ሙቀት O\n",
      "መቆቆም O\n",
      "የሚችል O\n",
      "ዋጋ-550ብር B-PRICE\n",
      "አድራሻ O\n",
      "ቁ.1 O\n",
      "ስሪ O\n",
      "ኤም O\n",
      "ሲቲ O\n"
     ]
    }
   ],
   "source": [
    "# Quick preview of the cleaned file (first 15 lines)\n",
    "with open(output_file, 'r', encoding='utf-8') as f:\n",
    "    preview_lines = [next(f).rstrip('\\n') for _ in range(15)]\n",
    "print(\"\\n\".join(preview_lines))\n"
   ]
  },
  {
   "cell_type": "code",
   "execution_count": null,
   "id": "7eb160a3",
   "metadata": {},
   "outputs": [],
   "source": []
  }
 ],
 "metadata": {
  "kernelspec": {
   "display_name": "Python 3 (ipykernel)",
   "language": "python",
   "name": "python3"
  },
  "language_info": {
   "codemirror_mode": {
    "name": "ipython",
    "version": 3
   },
   "file_extension": ".py",
   "mimetype": "text/x-python",
   "name": "python",
   "nbconvert_exporter": "python",
   "pygments_lexer": "ipython3",
   "version": "3.11.8"
  }
 },
 "nbformat": 4,
 "nbformat_minor": 5
}
